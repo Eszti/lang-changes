{
 "cells": [
  {
   "cell_type": "markdown",
   "id": "6e3afd16",
   "metadata": {},
   "source": [
    "# Get all Internet users for each country and language spokent from 1990 onwards\n",
    "\n",
    "Input\n",
    "- language codes: https://www.ethnologue.com/sites/default/files/LanguageCodes.tab\n",
    "- number-of-internet-users-by-country:\n",
    "\n",
    "Output\n",
    "- LangID: ISO 639-3 standard for language identifiers\n",
    "- CountryID:\n",
    "- Language: Language spoken\n",
    "- Year: Year data was gathered\n",
    "- Internet_users: number of active internet users\n",
    "- Name_country: Name of the main country where used."
   ]
  },
  {
   "cell_type": "code",
   "execution_count": 8,
   "id": "9d079314",
   "metadata": {},
   "outputs": [],
   "source": [
    "import pandas as pd"
   ]
  },
  {
   "cell_type": "code",
   "execution_count": 9,
   "id": "98d7eed7",
   "metadata": {},
   "outputs": [],
   "source": [
    "users_country = pd.read_csv(\"../../data/number-of-internet-users-by-country.csv\")\n",
    "#users_country = users_country.drop(users_country.columns[1], axis=1)\n",
    "users_country.columns = [\"Country\",'CountryID', \"Year\", \"Internet_users\"]"
   ]
  },
  {
   "cell_type": "code",
   "execution_count": 10,
   "id": "4d905146",
   "metadata": {},
   "outputs": [
    {
     "data": {
      "text/html": [
       "<div>\n",
       "<style scoped>\n",
       "    .dataframe tbody tr th:only-of-type {\n",
       "        vertical-align: middle;\n",
       "    }\n",
       "\n",
       "    .dataframe tbody tr th {\n",
       "        vertical-align: top;\n",
       "    }\n",
       "\n",
       "    .dataframe thead th {\n",
       "        text-align: right;\n",
       "    }\n",
       "</style>\n",
       "<table border=\"1\" class=\"dataframe\">\n",
       "  <thead>\n",
       "    <tr style=\"text-align: right;\">\n",
       "      <th></th>\n",
       "      <th>Country</th>\n",
       "      <th>CountryID</th>\n",
       "      <th>Year</th>\n",
       "      <th>Internet_users</th>\n",
       "    </tr>\n",
       "  </thead>\n",
       "  <tbody>\n",
       "    <tr>\n",
       "      <th>0</th>\n",
       "      <td>Afghanistan</td>\n",
       "      <td>AFG</td>\n",
       "      <td>1990</td>\n",
       "      <td>0</td>\n",
       "    </tr>\n",
       "    <tr>\n",
       "      <th>1</th>\n",
       "      <td>Afghanistan</td>\n",
       "      <td>AFG</td>\n",
       "      <td>2001</td>\n",
       "      <td>990</td>\n",
       "    </tr>\n",
       "    <tr>\n",
       "      <th>2</th>\n",
       "      <td>Afghanistan</td>\n",
       "      <td>AFG</td>\n",
       "      <td>2002</td>\n",
       "      <td>1003</td>\n",
       "    </tr>\n",
       "    <tr>\n",
       "      <th>3</th>\n",
       "      <td>Afghanistan</td>\n",
       "      <td>AFG</td>\n",
       "      <td>2003</td>\n",
       "      <td>20272</td>\n",
       "    </tr>\n",
       "    <tr>\n",
       "      <th>4</th>\n",
       "      <td>Afghanistan</td>\n",
       "      <td>AFG</td>\n",
       "      <td>2004</td>\n",
       "      <td>25520</td>\n",
       "    </tr>\n",
       "  </tbody>\n",
       "</table>\n",
       "</div>"
      ],
      "text/plain": [
       "       Country CountryID  Year  Internet_users\n",
       "0  Afghanistan       AFG  1990               0\n",
       "1  Afghanistan       AFG  2001             990\n",
       "2  Afghanistan       AFG  2002            1003\n",
       "3  Afghanistan       AFG  2003           20272\n",
       "4  Afghanistan       AFG  2004           25520"
      ]
     },
     "execution_count": 10,
     "metadata": {},
     "output_type": "execute_result"
    }
   ],
   "source": [
    "users_country.head()"
   ]
  },
  {
   "cell_type": "code",
   "execution_count": 11,
   "id": "dbae5918",
   "metadata": {},
   "outputs": [
    {
     "data": {
      "text/plain": [
       "193"
      ]
     },
     "execution_count": 11,
     "metadata": {},
     "output_type": "execute_result"
    }
   ],
   "source": [
    "number_countries = len(users_country['Country'].unique())\n",
    "number_countries"
   ]
  },
  {
   "cell_type": "code",
   "execution_count": 12,
   "id": "d7becb82",
   "metadata": {},
   "outputs": [],
   "source": [
    "languages_country = pd.read_csv('../../data/languages_country.csv', sep=';')"
   ]
  },
  {
   "cell_type": "code",
   "execution_count": 13,
   "id": "bb8984cc",
   "metadata": {},
   "outputs": [],
   "source": [
    "languages_country = languages_country.drop(languages_country.columns[2:4], axis=1)\n",
    "languages_country.columns = ['Country', 'Language', 'LangID']"
   ]
  },
  {
   "cell_type": "code",
   "execution_count": 14,
   "id": "b971cc01",
   "metadata": {},
   "outputs": [
    {
     "data": {
      "text/html": [
       "<div>\n",
       "<style scoped>\n",
       "    .dataframe tbody tr th:only-of-type {\n",
       "        vertical-align: middle;\n",
       "    }\n",
       "\n",
       "    .dataframe tbody tr th {\n",
       "        vertical-align: top;\n",
       "    }\n",
       "\n",
       "    .dataframe thead th {\n",
       "        text-align: right;\n",
       "    }\n",
       "</style>\n",
       "<table border=\"1\" class=\"dataframe\">\n",
       "  <thead>\n",
       "    <tr style=\"text-align: right;\">\n",
       "      <th></th>\n",
       "      <th>Country</th>\n",
       "      <th>Language</th>\n",
       "      <th>LangID</th>\n",
       "    </tr>\n",
       "  </thead>\n",
       "  <tbody>\n",
       "    <tr>\n",
       "      <th>0</th>\n",
       "      <td>Afghanistan</td>\n",
       "      <td>Persian</td>\n",
       "      <td>4096</td>\n",
       "    </tr>\n",
       "    <tr>\n",
       "      <th>1</th>\n",
       "      <td>Afghanistan</td>\n",
       "      <td>Uzbek</td>\n",
       "      <td>4096</td>\n",
       "    </tr>\n",
       "    <tr>\n",
       "      <th>2</th>\n",
       "      <td>Ã…land Islands</td>\n",
       "      <td>Swedish</td>\n",
       "      <td>4096</td>\n",
       "    </tr>\n",
       "    <tr>\n",
       "      <th>3</th>\n",
       "      <td>Albania</td>\n",
       "      <td>Albanian</td>\n",
       "      <td>1052</td>\n",
       "    </tr>\n",
       "    <tr>\n",
       "      <th>4</th>\n",
       "      <td>Albania</td>\n",
       "      <td>English</td>\n",
       "      <td>4096</td>\n",
       "    </tr>\n",
       "  </tbody>\n",
       "</table>\n",
       "</div>"
      ],
      "text/plain": [
       "          Country  Language  LangID\n",
       "0     Afghanistan   Persian    4096\n",
       "1     Afghanistan     Uzbek    4096\n",
       "2  Ã…land Islands   Swedish    4096\n",
       "3         Albania  Albanian    1052\n",
       "4         Albania   English    4096"
      ]
     },
     "execution_count": 14,
     "metadata": {},
     "output_type": "execute_result"
    }
   ],
   "source": [
    "languages_country.head()"
   ]
  },
  {
   "cell_type": "code",
   "execution_count": 15,
   "id": "a68c0fef",
   "metadata": {},
   "outputs": [],
   "source": [
    "merged = users_country.merge(languages_country, how='left', on='Country')"
   ]
  },
  {
   "cell_type": "code",
   "execution_count": 16,
   "id": "28e86249",
   "metadata": {},
   "outputs": [
    {
     "data": {
      "text/html": [
       "<div>\n",
       "<style scoped>\n",
       "    .dataframe tbody tr th:only-of-type {\n",
       "        vertical-align: middle;\n",
       "    }\n",
       "\n",
       "    .dataframe tbody tr th {\n",
       "        vertical-align: top;\n",
       "    }\n",
       "\n",
       "    .dataframe thead th {\n",
       "        text-align: right;\n",
       "    }\n",
       "</style>\n",
       "<table border=\"1\" class=\"dataframe\">\n",
       "  <thead>\n",
       "    <tr style=\"text-align: right;\">\n",
       "      <th></th>\n",
       "      <th>Country</th>\n",
       "      <th>CountryID</th>\n",
       "      <th>Year</th>\n",
       "      <th>Internet_users</th>\n",
       "      <th>Language</th>\n",
       "      <th>LangID</th>\n",
       "    </tr>\n",
       "  </thead>\n",
       "  <tbody>\n",
       "    <tr>\n",
       "      <th>0</th>\n",
       "      <td>Afghanistan</td>\n",
       "      <td>AFG</td>\n",
       "      <td>1990</td>\n",
       "      <td>0</td>\n",
       "      <td>Persian</td>\n",
       "      <td>4096.0</td>\n",
       "    </tr>\n",
       "    <tr>\n",
       "      <th>1</th>\n",
       "      <td>Afghanistan</td>\n",
       "      <td>AFG</td>\n",
       "      <td>1990</td>\n",
       "      <td>0</td>\n",
       "      <td>Uzbek</td>\n",
       "      <td>4096.0</td>\n",
       "    </tr>\n",
       "    <tr>\n",
       "      <th>2</th>\n",
       "      <td>Afghanistan</td>\n",
       "      <td>AFG</td>\n",
       "      <td>2001</td>\n",
       "      <td>990</td>\n",
       "      <td>Persian</td>\n",
       "      <td>4096.0</td>\n",
       "    </tr>\n",
       "    <tr>\n",
       "      <th>3</th>\n",
       "      <td>Afghanistan</td>\n",
       "      <td>AFG</td>\n",
       "      <td>2001</td>\n",
       "      <td>990</td>\n",
       "      <td>Uzbek</td>\n",
       "      <td>4096.0</td>\n",
       "    </tr>\n",
       "    <tr>\n",
       "      <th>4</th>\n",
       "      <td>Afghanistan</td>\n",
       "      <td>AFG</td>\n",
       "      <td>2002</td>\n",
       "      <td>1003</td>\n",
       "      <td>Persian</td>\n",
       "      <td>4096.0</td>\n",
       "    </tr>\n",
       "  </tbody>\n",
       "</table>\n",
       "</div>"
      ],
      "text/plain": [
       "       Country CountryID  Year  Internet_users Language  LangID\n",
       "0  Afghanistan       AFG  1990               0  Persian  4096.0\n",
       "1  Afghanistan       AFG  1990               0    Uzbek  4096.0\n",
       "2  Afghanistan       AFG  2001             990  Persian  4096.0\n",
       "3  Afghanistan       AFG  2001             990    Uzbek  4096.0\n",
       "4  Afghanistan       AFG  2002            1003  Persian  4096.0"
      ]
     },
     "execution_count": 16,
     "metadata": {},
     "output_type": "execute_result"
    }
   ],
   "source": [
    "merged.head()"
   ]
  },
  {
   "cell_type": "code",
   "execution_count": 17,
   "id": "882218ca",
   "metadata": {},
   "outputs": [],
   "source": [
    "language_internet_users = merged[['LangID','Language', 'Year', 'Internet_users', 'Country', 'CountryID']].sort_values(by=['Language','Year']).reset_index(drop = True)"
   ]
  },
  {
   "cell_type": "code",
   "execution_count": 18,
   "id": "88dfefb7",
   "metadata": {},
   "outputs": [
    {
     "data": {
      "text/html": [
       "<div>\n",
       "<style scoped>\n",
       "    .dataframe tbody tr th:only-of-type {\n",
       "        vertical-align: middle;\n",
       "    }\n",
       "\n",
       "    .dataframe tbody tr th {\n",
       "        vertical-align: top;\n",
       "    }\n",
       "\n",
       "    .dataframe thead th {\n",
       "        text-align: right;\n",
       "    }\n",
       "</style>\n",
       "<table border=\"1\" class=\"dataframe\">\n",
       "  <thead>\n",
       "    <tr style=\"text-align: right;\">\n",
       "      <th></th>\n",
       "      <th>LangID</th>\n",
       "      <th>Language</th>\n",
       "      <th>Year</th>\n",
       "      <th>Internet_users</th>\n",
       "      <th>Country</th>\n",
       "      <th>CountryID</th>\n",
       "    </tr>\n",
       "  </thead>\n",
       "  <tbody>\n",
       "    <tr>\n",
       "      <th>0</th>\n",
       "      <td>4096.0</td>\n",
       "      <td>Afrikaans</td>\n",
       "      <td>1990</td>\n",
       "      <td>0</td>\n",
       "      <td>Namibia</td>\n",
       "      <td>NAM</td>\n",
       "    </tr>\n",
       "    <tr>\n",
       "      <th>1</th>\n",
       "      <td>1078.0</td>\n",
       "      <td>Afrikaans</td>\n",
       "      <td>1990</td>\n",
       "      <td>0</td>\n",
       "      <td>South Africa</td>\n",
       "      <td>ZAF</td>\n",
       "    </tr>\n",
       "    <tr>\n",
       "      <th>2</th>\n",
       "      <td>1078.0</td>\n",
       "      <td>Afrikaans</td>\n",
       "      <td>1991</td>\n",
       "      <td>5106</td>\n",
       "      <td>South Africa</td>\n",
       "      <td>ZAF</td>\n",
       "    </tr>\n",
       "    <tr>\n",
       "      <th>3</th>\n",
       "      <td>1078.0</td>\n",
       "      <td>Afrikaans</td>\n",
       "      <td>1992</td>\n",
       "      <td>15299</td>\n",
       "      <td>South Africa</td>\n",
       "      <td>ZAF</td>\n",
       "    </tr>\n",
       "    <tr>\n",
       "      <th>4</th>\n",
       "      <td>1078.0</td>\n",
       "      <td>Afrikaans</td>\n",
       "      <td>1993</td>\n",
       "      <td>45840</td>\n",
       "      <td>South Africa</td>\n",
       "      <td>ZAF</td>\n",
       "    </tr>\n",
       "  </tbody>\n",
       "</table>\n",
       "</div>"
      ],
      "text/plain": [
       "   LangID   Language  Year  Internet_users       Country CountryID\n",
       "0  4096.0  Afrikaans  1990               0       Namibia       NAM\n",
       "1  1078.0  Afrikaans  1990               0  South Africa       ZAF\n",
       "2  1078.0  Afrikaans  1991            5106  South Africa       ZAF\n",
       "3  1078.0  Afrikaans  1992           15299  South Africa       ZAF\n",
       "4  1078.0  Afrikaans  1993           45840  South Africa       ZAF"
      ]
     },
     "execution_count": 18,
     "metadata": {},
     "output_type": "execute_result"
    }
   ],
   "source": [
    "language_internet_users.head()"
   ]
  },
  {
   "cell_type": "code",
   "execution_count": 19,
   "id": "100c1f24",
   "metadata": {},
   "outputs": [],
   "source": [
    "language_internet_users.to_csv('../../data/internet_users_per_language_1990_2017.csv') "
   ]
  },
  {
   "cell_type": "code",
   "execution_count": 21,
   "id": "730df03f",
   "metadata": {},
   "outputs": [],
   "source": [
    "# output: index: lang code & year, cols=[number of internet users, country(?)]"
   ]
  },
  {
   "cell_type": "code",
   "execution_count": null,
   "id": "0b2b6a05",
   "metadata": {},
   "outputs": [],
   "source": []
  }
 ],
 "metadata": {
  "kernelspec": {
   "display_name": "Python 3",
   "language": "python",
   "name": "python3"
  },
  "language_info": {
   "codemirror_mode": {
    "name": "ipython",
    "version": 3
   },
   "file_extension": ".py",
   "mimetype": "text/x-python",
   "name": "python",
   "nbconvert_exporter": "python",
   "pygments_lexer": "ipython3",
   "version": "3.8.8"
  }
 },
 "nbformat": 4,
 "nbformat_minor": 5
}
